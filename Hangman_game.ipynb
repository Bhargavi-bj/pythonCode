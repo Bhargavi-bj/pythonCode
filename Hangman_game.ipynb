{
  "nbformat": 4,
  "nbformat_minor": 0,
  "metadata": {
    "colab": {
      "name": "Hangman_game.ipynb",
      "provenance": [],
      "authorship_tag": "ABX9TyNsXSwmsyaL5VJdZdrHjgOI"
    },
    "kernelspec": {
      "name": "python3",
      "display_name": "Python 3"
    }
  },
  "cells": [
    {
      "cell_type": "code",
      "metadata": {
        "id": "O_TEOn2ASOus",
        "colab_type": "code",
        "colab": {}
      },
      "source": [
        "import random\n",
        "#The main code of hangman game is present here"
      ],
      "execution_count": 0,
      "outputs": []
    },
    {
      "cell_type": "code",
      "metadata": {
        "id": "RMQDLduJSRy2",
        "colab_type": "code",
        "colab": {}
      },
      "source": [
        "def pick_random_word():\n",
        "    word_list = [ \"about\", \"above\", \"across\", \"act\", \"active\", \"activity\", \"add\", \"afraid\", \"after\", \"again\", \"age\", \"ago\", \"agree\", \"air\", \"all\", \"alone\", \"along\", \"already\", \"always\", \"am\", \"amount\", \"an\", \"and\", \"angry\", \"another\", \"answer\", \"any\", \"anyone\", \"anything\", \"anytime\", \"appear\", \"apple\", \"are\", \"area\", \"arm\", \"army\", \"around\", \"arrive\", \"art\", \"as\", \"ask\", \"at\", \"attack\", \"aunt\", \"autumn\", \"away\",\"baby\", \"back\", \"bad\", \"bag\", \"ball\", \"bank\", \"base\", \"basket\", \"bath\", \"be\", \"bean\", \"bear\", \"beautiful\", \"bed\", \"bedroom\", \"beer\", \"behave\", \"before\", \"begin\", \"behind\", \"bell\", \"below\", \"besides\", \"best\", \"better\", \"between\", \"big\", \"bird\", \"birth\", \"birthday\", \"bit\", \"bite\", \"black\", \"bleed\", \"block\", \"blood\", \"blow\", \"blue\", \"board\", \"boat\", \"body\", \"boil\", \"bone\", \"book\", \"border\", \"born\", \"borrow\", \"both\", \"bottle\", \"bottom\", \"bowl\", \"box\", \"boy\", \"branch\", \"brave\", \"bread\", \"break\", \"breakfast\", \"breathe\", \"bridge\", \"bright\", \"bring\", \"brother\", \"brown\", \"brush\", \"build\", \"burn\", \"business\", \"bus\", \"busy\", \"but\", \"buy\", \"by\", \"cake\", \"call\", \"can\", \"candle\", \"cap\", \"car\", \"card\", \"care\", \"careful\", \"careless\", \"carry\", \"case\", \"cat\", \"catch\", \"central\", \"century\", \"certain\", \"chair\", \"chance\", \"change\", \"chase\", \"cheap\", \"cheese\", \"chicken\", \"child\", \"children\", \"chocolate\", \"choice\", \"choose\", \"circle\", \"city\", \"class\", \"clever\", \"clean\", \"clear\", \"climb\", \"clock\", \"cloth\", \"clothes\", \"cloud\", \"cloudy\", \"close\", \"coffee\", \"coat\", \"coin\", \"cold\", \"collect\", \"colour\", \"comb\", \"comfortable\", \"common\", \"compare\", \"come\", \"complete\", \"computer\", \"condition\", \"continue\", \"control\", \"cook\", \"cool\", \"copper\", \"corn\", \"corner\", \"correct\", \"cost\", \"contain\", \"count\", \"country\", \"course\", \"cover\", \"crash\", \"cross\", \"cry\", \"cup\", \"cupboard\", \"cut\",\"dance\", \"dangerous\", \"dark\", \"daughter\", \"day\", \"dead\", \"decide\", \"decrease\", \"deep\", \"deer\", \"depend\", \"desk\", \"destroy\", \"develop\", \"die\", \"different\", \"difficult\", \"dinner\", \"direction\", \"dirty\", \"discover\", \"dish\", \"do\", \"dog\", \"door\", \"double\", \"down\", \"draw\", \"dream\", \"dress\", \"drink\", \"drive\", \"drop\", \"dry\", \"duck\", \"dust\", \"duty\" \"each\", \"ear\", \"early\", \"earn\", \"earth\", \"east\", \"easy\", \"eat\", \"education\", \"effect\", \"egg\", \"eight\", \"either\", \"electric\", \"elephant\", \"else\", \"empty\", \"end\", \"enemy\", \"enjoy\", \"enough\", \"enter\", \"equal\", \"entrance\", \"escape\", \"even\", \"evening\", \"event\", \"ever\", \"every\", \"everyone\", \"exact\", \"everybody\", \"examination\", \"example\", \"except\", \"excited\", \"exercise\", \"expect\", \"expensive\", \"explain\", \"extremely\", \"eye\", \"face\", \"fact\", \"fail\", \"fall\", \"false\", \"family\", \"famous\", \"far\", \"farm\", \"father\", \"fast\", \"fat\", \"fault\", \"fear\", \"feed\", \"feel\", \"female\", \"fever\", \"few\", \"fight\", \"fill\", \"film\", \"find\", \"fine\", \"finger\", \"finish\", \"fire\", \"first\", \"fish\", \"fit\", \"five\", \"fix\", \"flag\", \"flat\", \"float\", \"floor\", \"flour\", \"flower\", \"fly\", \"fold\", \"food\", \"fool\", \"foot\", \"football\", \"for\", \"force\", \"foreign\", \"forest\", \"forget\", \"forgive\", \"fork\", \"form\", \"fox\", \"four\", \"free\", \"freedom\", \"freeze\", \"fresh\", \"friend\", \"friendly\", \"from\", \"front\", \"fruit\", \"full\", \"fun\", \"funny\", \"furniture\", \"further\", \"future\", \"game\", \"garden\", \"gate\", \"general\", \"gentleman\", \"get\", \"gift\", \"give\", \"glad\", \"glass\", \"go\", \"goat\", \"god\", \"gold\", \"good\", \"goodbye\", \"grandfather\", \"grandmother\", \"grass\", \"grave\", \"great\", \"green\", \"gray\", \"ground\", \"group\", \"grow\", \"gun\", \"hair\", \"half\", \"hall\", \"hammer\", \"hand\", \"happen\", \"happy\", \"hard\", \"hat\", \"hate\", \"have\", \"he\", \"head\", \"healthy\", \"hear\", \"heavy\", \"heart\", \"heaven\", \"height\", \"hello\", \"help\", \"hen\", \"her\", \"here\", \"hers\", \"hide\", \"high\", \"hill\", \"him\", \"his\", \"hit\", \"hobby\", \"hold\", \"hole\", \"holiday\", \"home\", \"hope\", \"horse\", \"hospital\", \"hot\", \"hotel\", \"house\", \"how\", \"hundred\", \"hungry\", \"hour\", \"hurry\", \"husband\", \"hurt\", \"ice\", \"idea\", \"if\", \"important\", \"in\", \"increase\", \"inside\", \"into\", \"introduce\", \"invent\", \"iron\", \"invite\", \"is\", \"island\", \"it\", \"its\", \"jelly\", \"job\", \"join\", \"juice\", \"jump\", \"just\", \"keep\", \"key\", \"kill\", \"kind\", \"king\", \"kitchen\", \"knee\", \"knife\", \"knock\", \"know\", \"ladder\", \"lady\", \"lamp\", \"land\", \"large\", \"last\", \"late\", \"lately\", \"laugh\", \"lazy\", \"lead\", \"leaf\", \"learn\", \"leave\", \"leg\", \"left\", \"lend\", \"length\", \"less\", \"lesson\", \"let\", \"letter\", \"library\", \"lie\", \"life\", \"light\", \"like\", \"lion\", \"lip\", \"list\", \"listen\", \"little\", \"live\", \"lock\", \"lonely\", \"long\", \"look\", \"lose\", \"lot\", \"love\", \"low\", \"lower\", \"luck\", \"machine\", \"main\", \"make\", \"male\", \"man\", \"many\", \"map\", \"mark\", \"market\", \"marry\", \"matter\", \"may\", \"me\", \"meal\", \"mean\", \"measure\", \"meat\", \"medicine\", \"meet\", \"member\", \"mention\", \"method\", \"middle\", \"milk\", \"million\", \"mind\", \"minute\", \"miss\", \"mistake\", \"mix\", \"model\", \"modern\", \"moment\", \"money\", \"monkey\", \"month\", \"moon\", \"more\", \"morning\", \"most\", \"mother\", \"mountain\", \"mouth\", \"move\", \"much\", \"music\", \"must\", \"my\", \"name\", \"narrow\", \"nation\", \"nature\", \"near\", \"nearly\", \"neck\", \"need\", \"needle\", \"neighbour\", \"neither\", \"net\", \"never\", \"new\", \"news\", \"newspaper\", \"next\", \"nice\", \"night\", \"nine\", \"no\", \"noble\", \"noise\", \"none\", \"nor\", \"north\", \"nose\", \"not\", \"nothing\", \"notice\", \"now\", \"number\", \"obey\", \"object\", \"ocean\", \"of\", \"off\", \"offer\", \"office\", \"often\", \"oil\", \"old\", \"on\", \"one\", \"only\", \"open\", \"opposite\", \"or\", \"orange\", \"order\", \"other\", \"our\", \"out\", \"outside\", \"over\", \"own\", \"page\", \"pain\", \"paint\", \"pair\", \"pan\", \"paper\", \"parent\", \"park\", \"part\", \"partner\", \"party\", \"pass\", \"past\", \"path\", \"pay\", \"peace\", \"pen\", \"pencil\", \"people\", \"pepper\", \"per\", \"perfect\", \"period\", \"person\", \"petrol\", \"photograph\", \"piano\", \"pick\", \"picture\", \"piece\", \"pig\", \"pin\", \"pink\", \"place\", \"plane\", \"plant\", \"plastic\", \"plate\", \"play\", \"please\", \"pleased\", \"plenty\", \"pocket\", \"point\", \"poison\", \"police\", \"polite\", \"pool\", \"poor\", \"popular\", \"position\", \"possible\", \"potato\", \"pour\", \"power\", \"present\", \"press\", \"pretty\", \"prevent\", \"price\", \"prince\", \"prison\", \"private\", \"prize\", \"probably\", \"problem\", \"produce\", \"promise\", \"proper\", \"protect\", \"provide\", \"public\", \"pull\", \"punish\", \"pupil\", \"push\", \"put\", \"queen\", \"question\", \"quick\", \"quiet\", \"quite\", \"radio\", \"rain\", \"rainy\", \"raise\", \"reach\", \"read\", \"ready\", \"real\", \"really\", \"receive\", \"record\", \"red\", \"remember\", \"remind\", \"remove\", \"rent\", \"repair\", \"repeat\", \"reply\", \"report\", \"rest\", \"restaurant\", \"result\", \"return\", \"rice\", \"rich\", \"ride\", \"right\", \"ring\", \"rise\", \"road\", \"rob\", \"rock\", \"room\", \"round\", \"rubber\", \"rude\", \"rule\", \"ruler\", \"run\", \"rush\", \"sad\", \"safe\", \"sail\", \"salt\", \"same\", \"sand\", \"save\", \"say\", \"school\", \"science\", \"scissors\", \"search\", \"seat\", \"second\", \"see\", \"seem\", \"sell\", \"send\", \"sentence\", \"serve\", \"seven\", \"several\", \"sex\", \"shade\", \"shadow\", \"shake\", \"shape\", \"share\", \"sharp\", \"she\", \"sheep\", \"sheet\", \"shelf\", \"shine\", \"ship\", \"shirt\", \"shoe\", \"shoot\", \"shop\", \"short\", \"should\", \"shoulder\", \"shout\", \"show\", \"sick\", \"side\", \"signal\", \"silence\", \"silly\", \"silver\", \"similar\", \"simple\", \"single\", \"since\", \"sing\", \"sink\", \"sister\", \"sit\", \"six\", \"size\", \"skill\", \"skin\", \"skirt\", \"sky\", \"sleep\", \"slip\", \"slow\", \"small\", \"smell\", \"smile\", \"smoke\", \"snow\", \"so\", \"soap\", \"sock\", \"soft\", \"some\", \"someone\", \"something\", \"sometimes\", \"son\", \"soon\", \"sorry\", \"sound\", \"soup\", \"south\", \"space\", \"speak\", \"special\", \"speed\", \"spell\", \"spend\", \"spoon\", \"sport\", \"spread\", \"spring\", \"square\", \"stamp\", \"stand\", \"star\", \"start\", \"station\", \"stay\", \"steal\", \"steam\", \"step\", \"still\", \"stomach\", \"stone\", \"stop\", \"store\", \"storm\", \"story\", \"strange\", \"street\", \"strong\", \"structure\", \"student\", \"study\", \"stupid\", \"subject\", \"substance\", \"successful\", \"such\", \"sudden\", \"sugar\", \"suitable\", \"summer\", \"sun\", \"sunny\", \"support\", \"sure\", \"surprise\", \"sweet\", \"swim\", \"sword\", \"table\", \"take\", \"talk\", \"tall\", \"taste\", \"taxi\", \"tea\", \"teach\", \"team\", \"tear\", \"telephone\", \"television\", \"tell\", \"ten\", \"tennis\", \"terrible\", \"test\", \"than\", \"that\", \"the\", \"their\", \"then\", \"there\", \"therefore\", \"these\", \"thick\", \"thin\", \"thing\", \"think\", \"third\", \"this\", \"though\", \"threat\", \"three\", \"tidy\", \"tie\", \"title\", \"to\", \"today\", \"toe\", \"together\", \"tomorrow\", \"tonight\", \"too\", \"tool\", \"tooth\", \"top\", \"total\", \"touch\", \"town\", \"train\", \"tram\", \"travel\", \"tree\", \"trouble\", \"true\", \"trust\", \"twice\", \"try\", \"turn\", \"type\", \"ugly\", \"uncle\", \"under\", \"understand\", \"unit\", \"until\", \"up\", \"use\", \"useful\", \"usual\", \"usually\", \"vegetable\", \"very\", \"village\", \"voice\", \"visit\", \"wait\", \"wake\", \"walk\", \"want\", \"warm\", \"was\", \"wash\", \"waste\", \"watch\", \"water\", \"way\", \"we\", \"weak\", \"wear\", \"weather\", \"wedding\", \"week\", \"weight\", \"welcome\", \"were\", \"well\", \"west\", \"wet\", \"what\", \"wheel\", \"when\", \"where\", \"which\", \"while\", \"white\", \"who\", \"why\", \"wide\", \"wife\", \"wild\", \"will\", \"win\", \"wind\", \"window\", \"wine\", \"winter\", \"wire\", \"wise\", \"wish\", \"with\", \"without\", \"woman\", \"wonder\", \"word\", \"work\", \"world\", \"worry\", \"yard\", \"yell\", \"yesterday\", \"yet\", \"you\", \"young\", \"your\", \"zero\", \"zoo\"]\n",
        "\n",
        "    #selects a random integer from 0 to length of the word list\n",
        "    selected_index = random.randint(0,len(word_list)-1)\n",
        "\n",
        "    return word_list[selected_index]"
      ],
      "execution_count": 0,
      "outputs": []
    },
    {
      "cell_type": "code",
      "metadata": {
        "id": "p3rZ8AG7Tw6s",
        "colab_type": "code",
        "colab": {}
      },
      "source": [
        "def change_current_word_state(selected_word, current_word_state, character):\n",
        "    modified_word_state = \"\"\n",
        "\n",
        "    for i in range(len(selected_word)):\n",
        "        if current_word_state[i] == \"_\" and selected_word[i] == character:\n",
        "            modified_word_state+=character\n",
        "        else:\n",
        "            modified_word_state+=current_word_state[i]\n",
        "\n",
        "    return modified_word_state  "
      ],
      "execution_count": 0,
      "outputs": []
    },
    {
      "cell_type": "code",
      "metadata": {
        "id": "UzZjXX46Ty0o",
        "colab_type": "code",
        "colab": {}
      },
      "source": [
        "def input_character_in_word(selected_word, input_char, current_word_state, attempts_remaining):\n",
        "    if input_char in selected_word:\n",
        "        current_word_state = change_current_word_state(selected_word, current_word_state, input_char)\n",
        "    else:\n",
        "        attempts_remaining-=1\n",
        "\n",
        "    return current_word_state, attempts_remaining"
      ],
      "execution_count": 0,
      "outputs": []
    },
    {
      "cell_type": "code",
      "metadata": {
        "id": "gro93OawT0z1",
        "colab_type": "code",
        "colab": {}
      },
      "source": [
        "def print_current_state(current_word_state, attempts_remaining):\n",
        "    #it will print current state of the word as well as attempts remaining \n",
        "    print(\"Current State:\", end=\" \")\n",
        "\n",
        "    for i in current_word_state:\n",
        "        print(i,end=\" \")\n",
        "\n",
        "    print(\"\\tAttempts Remaining: {}\".format(attempts_remaining))"
      ],
      "execution_count": 0,
      "outputs": []
    },
    {
      "cell_type": "code",
      "metadata": {
        "id": "6guxxPfLT6uc",
        "colab_type": "code",
        "colab": {}
      },
      "source": [
        "def check_game_status(selected_word,current_word_state,attempts_remaining):\n",
        "    #this function is used to check whether the user has won or lost or still has chances\n",
        "\n",
        "    if current_word_state == selected_word:\n",
        "        print(\"Congrats! You won the game :D\")\n",
        "        return True\n",
        "\n",
        "    if attempts_remaining <=0:\n",
        "        print(\"Sorry! You lost!! :(  Please Try Again\")\n",
        "        print(\"Word was: {}\".format(selected_word))\n",
        "        return True\n",
        "\n",
        "    return False  "
      ],
      "execution_count": 0,
      "outputs": []
    },
    {
      "cell_type": "code",
      "metadata": {
        "id": "BvjK2A2mT9FV",
        "colab_type": "code",
        "colab": {}
      },
      "source": [
        "def play_game(attempts=5):\n",
        "    # \"main logic of our program resides\"\n",
        "\n",
        "    # we are taking a random word here\n",
        "    selected_word = pick_random_word()\n",
        "\n",
        "    #we are generating current word state \n",
        "    current_word_state = \"\"\n",
        "\n",
        "    for i in range(len(selected_word)):\n",
        "        if selected_word[i] == 'a' or selected_word[i] == 'e' or selected_word[i] == 'i' or selected_word[i] == 'o' or selected_word[i] == 'u':\n",
        "            current_word_state+=selected_word[i]\n",
        "        else:\n",
        "            current_word_state+=\"_\"\n",
        "\n",
        "    #we are creating a variable to check the number of attemots remaining\n",
        "    attempts_remaining = attempts\n",
        "\n",
        "    #we are going to use another function which will print the current state of the word\n",
        "    print_current_state(current_word_state, attempts)  \n",
        "\n",
        "    while True:\n",
        "        input_char = input(\"Guess the character: \")\n",
        "        print(\"\")\n",
        "\n",
        "        current_word_state, attempts_remaining = input_character_in_word(selected_word, input_char, current_word_state, attempts_remaining)\n",
        "\n",
        "        print_current_state(current_word_state, attempts_remaining)\n",
        "\n",
        "        game_ended = check_game_status(selected_word,current_word_state,attempts_remaining)\n",
        "\n",
        "        if game_ended:\n",
        "            break\n"
      ],
      "execution_count": 0,
      "outputs": []
    },
    {
      "cell_type": "code",
      "metadata": {
        "id": "5fKl5776UAv1",
        "colab_type": "code",
        "colab": {
          "base_uri": "https://localhost:8080/",
          "height": 353
        },
        "outputId": "5ae63236-8372-4c29-8d38-d221ba1f4317"
      },
      "source": [
        "\n",
        "if __name__ == \"__main__\":\n",
        "    play_game()"
      ],
      "execution_count": 16,
      "outputs": [
        {
          "output_type": "stream",
          "text": [
            "Current State: _ e _ _ _ \tAttempts Remaining: 5\n",
            "Guess the character: r\n",
            "\n",
            "Current State: r e _ _ _ \tAttempts Remaining: 5\n",
            "Guess the character: p\n",
            "\n",
            "Current State: r e p _ _ \tAttempts Remaining: 5\n",
            "Guess the character: m\n",
            "\n",
            "Current State: r e p _ _ \tAttempts Remaining: 4\n",
            "Guess the character: b\n",
            "\n",
            "Current State: r e p _ _ \tAttempts Remaining: 3\n",
            "Guess the character: l\n",
            "\n",
            "Current State: r e p l _ \tAttempts Remaining: 3\n",
            "Guess the character: y\n",
            "\n",
            "Current State: r e p l y \tAttempts Remaining: 3\n",
            "Congrats! You won the game :D\n"
          ],
          "name": "stdout"
        }
      ]
    }
  ]
}
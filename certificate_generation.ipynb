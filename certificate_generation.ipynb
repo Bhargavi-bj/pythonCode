from PIL import Image,ImageDraw,ImageFont
img = Image.open("./CertificateTemplate.jpg")

import matplotlib.pyplot as plt
import numpy as np
def print_img(img):
    plt.imshow(np.array(img))
    plt.show()

#print_img(img)

import cv2
from google.colab.patches import cv2_imshow #for google colab only

img = cv2.imread("CertificateTemplate.jpg")


def generate_certificate(img,name = "Enter Name"):
    generated_image = img.copy()
    font = cv2.FONT_HERSHEY_SIMPLEX
    coordinates = (700,750)
    font_size = 3.5
    font_color = (51, 51, 51)
    font_thickness = 10
    cv2.putText(generated_image, name, coordinates, font, font_size, font_color, font_thickness)
    return generated_image
def save_img(img, name):
    path = "./certi_().jpg".format(name)
    print(cv2.imwrite(path,img))
    
generated_image = generate_certificate(img,"Bhargavi")
save_img(generated_image,"Bhargavi")
cv2_imshow(generated_image)
